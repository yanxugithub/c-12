{
 "cells": [
  {
   "cell_type": "markdown",
   "metadata": {
    "dotnet_interactive": {
     "language": "csharp"
    },
    "polyglot_notebook": {
     "kernelName": "csharp"
    }
   },
   "source": [
    "override vs new"
   ]
  },
  {
   "cell_type": "code",
   "execution_count": null,
   "metadata": {},
   "outputs": [],
   "source": [
    "class Employee {\n",
    "\n",
    "    public virtual void Report() {\n",
    "        Console.WriteLine(\"from Employee\");\n",
    "    }\n",
    "\n",
    "}\n",
    "\n",
    "class GM: Employee {\n",
    "    public override void Report() {\n",
    "        Console.WriteLine(\"from GM\");\n",
    "    }\n",
    "\n",
    "    // when override is not used, if GM instance is cast to Employee and Report method is called, Report method called is\n",
    "    // the Report method of the base class. this breaks the virtual.\n",
    "    // When override is used, if GM instance is cast to Employee and Report method is calld, Report method called is the \n",
    "    // the Report method of GM class because Report method is virtual from the base class.\n",
    "    // public void Report() {\n",
    "    //     Console.WriteLine(\"from GM\");\n",
    "    // }    \n",
    "}\n",
    "\n",
    "GM g = new ();\n",
    "g.Report();\n",
    "\n",
    "Employee e = g;\n",
    "\n",
    "e.Report();\n",
    "\n",
    "\n",
    "\n",
    "\n"
   ]
  },
  {
   "cell_type": "code",
   "execution_count": null,
   "metadata": {},
   "outputs": [],
   "source": [
    "class Employee {\n",
    "\n",
    "    // When override is used, if GM instance is cast to Employee and Report method is calld, Report method called is the \n",
    "    // the Report method of GM class because Report method is virtual from the base class.\n",
    "    public virtual void Report() {\n",
    "        Console.WriteLine(\"from Employee\");\n",
    "    }\n",
    "\n",
    "}\n",
    "\n",
    "class GM: Employee {\n",
    "\n",
    "    // when override is not used, if GM instance is cast to Employee and Report method is called, Report method called is\n",
    "    // the Report method of the base class. this breaks the virtual.\n",
    "    public void Report() {\n",
    "        Console.WriteLine(\"from GM\");\n",
    "    }    \n",
    "}\n",
    "\n",
    "GM g = new ();\n",
    "g.Report();\n",
    "\n",
    "Employee e = g;\n",
    "\n",
    "e.Report();\n"
   ]
  },
  {
   "cell_type": "code",
   "execution_count": null,
   "metadata": {},
   "outputs": [],
   "source": [
    "class Employee {\n",
    "\n",
    "    // When override is used, if GM instance is cast to Employee and Report method is calld, Report method called is the \n",
    "    // the Report method of GM class because Report method is virtual from the base class.\n",
    "    public virtual void Report() {\n",
    "        Console.WriteLine(\"from Employee\");\n",
    "    }\n",
    "\n",
    "    public void Work() {\n",
    "        Console.WriteLine(\"from Employee\");\n",
    "    }\n",
    "\n",
    "}\n",
    "\n",
    "class GM: Employee {\n",
    "\n",
    "    public new void Report() {\n",
    "        Console.WriteLine(\"from GM\");\n",
    "    }    \n",
    "}\n",
    "\n",
    "class Manager: Employee {\n",
    "    public new void Work() {\n",
    "        Console.WriteLine(\"from Manager\");\n",
    "    }\n",
    "}\n",
    "\n",
    "Manager m = new ();\n",
    "m.Work();\n",
    "\n",
    "Employee e = m;\n",
    "m.Work();\n"
   ]
  },
  {
   "cell_type": "code",
   "execution_count": null,
   "metadata": {},
   "outputs": [],
   "source": [
    "public abstract class PdaItem\n",
    "{\n",
    "    public PdaItem(string name)\n",
    "    {\n",
    "        Name = name;\n",
    "    }\n",
    "\n",
    "    public virtual string Name { get; set; }\n",
    "    public abstract string GetSummary();     \n",
    "    public void foo() {\n",
    "        Console.WriteLine(\"From pdaItem\");\n",
    "    }                                               \n",
    "}\n",
    "\n",
    "public class Test(string name): PdaItem(name) {\n",
    "    \n",
    "    public override string GetSummary() {\n",
    "        return \"\";\n",
    "    }\n",
    "    public override string Name { get; set;}\n",
    "}"
   ]
  }
 ],
 "metadata": {
  "kernelspec": {
   "display_name": ".NET (C#)",
   "language": "C#",
   "name": ".net-csharp"
  },
  "polyglot_notebook": {
   "kernelInfo": {
    "defaultKernelName": "csharp",
    "items": [
     {
      "aliases": [],
      "languageName": "csharp",
      "name": "csharp"
     }
    ]
   }
  }
 },
 "nbformat": 4,
 "nbformat_minor": 2
}
