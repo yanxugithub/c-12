{
 "cells": [
  {
   "cell_type": "markdown",
   "metadata": {
    "dotnet_interactive": {
     "language": "csharp"
    },
    "polyglot_notebook": {
     "kernelName": "csharp"
    }
   },
   "source": [
    "Named Tuple Example"
   ]
  },
  {
   "cell_type": "code",
   "execution_count": 4,
   "metadata": {
    "dotnet_interactive": {
     "language": "csharp"
    },
    "polyglot_notebook": {
     "kernelName": "csharp"
    }
   },
   "outputs": [
    {
     "ename": "Error",
     "evalue": "(1,8): error CS1029: #error: 'version'\r\n(1,8): error CS8304: Compiler version: '4.8.0-7.23558.1 (e0917286)'. Language version: 12.0.",
     "output_type": "error",
     "traceback": [
      "(1,8): error CS1029: #error: 'version'\r\n",
      "(1,8): error CS8304: Compiler version: '4.8.0-7.23558.1 (e0917286)'. Language version: 12.0."
     ]
    }
   ],
   "source": [
    "\n",
    "\n",
    "(string Name, int Value) x = (\"wdfds\", 3 );\n",
    "\n",
    "Console.WriteLine($\"{x}\");\n",
    "Console.WriteLine($\"Name = {x.Name}, value = {x.Value}\");\n",
    "\n",
    "var t = (Name: \"adfasd\", Value: 123);\n",
    "\n",
    "Console.WriteLine($\"{t}\");\n",
    "Console.WriteLine($\"Name = {t.Name}, value = {t.Value}\");\n",
    "\n"
   ]
  },
  {
   "cell_type": "markdown",
   "metadata": {},
   "source": [
    "Unnamed Tuple"
   ]
  },
  {
   "cell_type": "code",
   "execution_count": null,
   "metadata": {
    "dotnet_interactive": {
     "language": "csharp"
    },
    "polyglot_notebook": {
     "kernelName": "csharp"
    }
   },
   "outputs": [],
   "source": [
    "(string , int ) x = (\"wdfds\", 3 );\n",
    "\n",
    "Console.WriteLine($\"{x}\");\n",
    "Console.WriteLine($\"Name = {x.Item1}, value = {x.Item2}\");"
   ]
  }
 ],
 "metadata": {
  "kernelspec": {
   "display_name": ".NET (C#)",
   "language": "C#",
   "name": ".net-csharp"
  },
  "polyglot_notebook": {
   "kernelInfo": {
    "defaultKernelName": "csharp",
    "items": [
     {
      "aliases": [],
      "languageName": "csharp",
      "name": "csharp"
     }
    ]
   }
  }
 },
 "nbformat": 4,
 "nbformat_minor": 2
}
