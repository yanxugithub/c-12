{
 "cells": [
  {
   "cell_type": "markdown",
   "metadata": {
    "dotnet_interactive": {
     "language": "csharp"
    },
    "polyglot_notebook": {
     "kernelName": "csharp"
    }
   },
   "source": [
    "Null-Coalescing expression expression1 ?? expression2 returns the non-null value from expression1 or expression2. When neither\n",
    "expression1 nor expression2 is null, expression1 is returned."
   ]
  },
  {
   "cell_type": "code",
   "execution_count": null,
   "metadata": {
    "dotnet_interactive": {
     "language": "csharp"
    },
    "polyglot_notebook": {
     "kernelName": "csharp"
    }
   },
   "outputs": [],
   "source": [
    "string x = null ?? \"a\";\n",
    "Console.WriteLine(x);\n",
    "\n",
    "x = \"b\" ?? \"a\";\n",
    "Console.WriteLine(x);\n",
    "\n",
    "x = \"a\" ?? \"b\";\n",
    "Console.WriteLine(x);"
   ]
  },
  {
   "cell_type": "markdown",
   "metadata": {},
   "source": [
    "Null-Coalescing Assignment Operators (??=) assigns the value of its right-hand operand to its left-hand operand only if the left-hand operand evaluates to null. The ??= operator doesn't evaluate its right-hand operand if the left-hand operand evaluates to non-null."
   ]
  },
  {
   "cell_type": "code",
   "execution_count": null,
   "metadata": {},
   "outputs": [],
   "source": [
    "string x = null;\n",
    "\n",
    "x ??= \"aaa\";\n",
    "\n",
    "Console.WriteLine(x);\n",
    "\n",
    "x = \"not null\";\n",
    "\n",
    "x ??= \"value\";\n",
    "\n",
    "Console.WriteLine(x);\n",
    "\n",
    "\n"
   ]
  }
 ],
 "metadata": {
  "kernelspec": {
   "display_name": ".NET (C#)",
   "language": "C#",
   "name": ".net-csharp"
  },
  "polyglot_notebook": {
   "kernelInfo": {
    "defaultKernelName": "csharp",
    "items": [
     {
      "aliases": [],
      "languageName": "csharp",
      "name": "csharp"
     }
    ]
   }
  }
 },
 "nbformat": 4,
 "nbformat_minor": 2
}
