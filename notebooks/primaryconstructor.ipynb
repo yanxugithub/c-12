{
 "cells": [
  {
   "cell_type": "markdown",
   "metadata": {
    "dotnet_interactive": {
     "language": "csharp"
    },
    "polyglot_notebook": {
     "kernelName": "csharp"
    }
   },
   "source": [
    "Primary Constructor"
   ]
  },
  {
   "cell_type": "code",
   "execution_count": null,
   "metadata": {
    "dotnet_interactive": {
     "language": "csharp"
    },
    "polyglot_notebook": {
     "kernelName": "csharp"
    }
   },
   "outputs": [],
   "source": [
    "public class Employee(string firstName, string lastName) {\n",
    "    public string FirstName { get; set; } = firstName;\n",
    "    public string LastName { get; set; } = lastName;\n",
    "}\n",
    "\n",
    "public class GM(string firstName, string lastName):Employee(firstName, lastName) {\n",
    "\n",
    "}\n",
    "\n",
    "Employee x = new Employee(\"a\", \"b\");\n",
    "\n",
    "GM g = new GM(\"aaa\", \"bbb\");\n"
   ]
  }
 ],
 "metadata": {
  "kernelspec": {
   "display_name": ".NET (C#)",
   "language": "C#",
   "name": ".net-csharp"
  },
  "polyglot_notebook": {
   "kernelInfo": {
    "defaultKernelName": "csharp",
    "items": [
     {
      "aliases": [],
      "languageName": "csharp",
      "name": "csharp"
     }
    ]
   }
  }
 },
 "nbformat": 4,
 "nbformat_minor": 2
}
